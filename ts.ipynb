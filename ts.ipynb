{
 "cells": [
  {
   "cell_type": "code",
   "execution_count": 11,
   "metadata": {},
   "outputs": [],
   "source": [
    "import pandas as pd\n",
    "import numpy as np\n",
    "import tslearn\n",
    "import matplotlib.pyplot as plt\n",
    "#import tslearn.utils"
   ]
  },
  {
   "cell_type": "code",
   "execution_count": 12,
   "metadata": {},
   "outputs": [
    {
     "name": "stderr",
     "output_type": "stream",
     "text": [
      "C:\\Users\\user\\AppData\\Local\\Temp\\ipykernel_20440\\2293974226.py:1: DtypeWarning: Columns (15,16,17,19,21,24,25,26,27,28,127) have mixed types. Specify dtype option on import or set low_memory=False.\n",
      "  data = pd.read_csv(\"C:\\\\Users\\\\user\\\\Documents\\\\dane_chad\\\\dane_165.csv\")\n"
     ]
    }
   ],
   "source": [
    "data = pd.read_csv(\"C:\\\\Users\\\\user\\\\Documents\\\\dane_chad\\\\dane_165.csv\") #1472"
   ]
  },
  {
   "cell_type": "code",
   "execution_count": 13,
   "metadata": {},
   "outputs": [
    {
     "name": "stderr",
     "output_type": "stream",
     "text": [
      "C:\\Users\\user\\AppData\\Local\\Temp\\ipykernel_20440\\1207299276.py:1: DtypeWarning: Columns (15,16,17,19,21,24,25,26,27,28,127) have mixed types. Specify dtype option on import or set low_memory=False.\n",
      "  data2 = pd.read_csv(\"C:\\\\Users\\\\user\\\\Documents\\\\dane_chad\\\\dane_90.csv\")\n"
     ]
    }
   ],
   "source": [
    "data2 = pd.read_csv(\"C:\\\\Users\\\\user\\\\Documents\\\\dane_chad\\\\dane_90.csv\") #6139"
   ]
  },
  {
   "cell_type": "code",
   "execution_count": 6,
   "metadata": {},
   "outputs": [
    {
     "data": {
      "text/html": [
       "<div>\n",
       "<style scoped>\n",
       "    .dataframe tbody tr th:only-of-type {\n",
       "        vertical-align: middle;\n",
       "    }\n",
       "\n",
       "    .dataframe tbody tr th {\n",
       "        vertical-align: top;\n",
       "    }\n",
       "\n",
       "    .dataframe thead th {\n",
       "        text-align: right;\n",
       "    }\n",
       "</style>\n",
       "<table border=\"1\" class=\"dataframe\">\n",
       "  <thead>\n",
       "    <tr style=\"text-align: right;\">\n",
       "      <th></th>\n",
       "      <th>Unnamed: 0</th>\n",
       "      <th>day</th>\n",
       "      <th>state</th>\n",
       "      <th>hamd_ymrs</th>\n",
       "      <th>visit_number</th>\n",
       "      <th>patient_id</th>\n",
       "      <th>dw_mobilerecording_id</th>\n",
       "      <th>st_mobilerecording_id.x</th>\n",
       "      <th>dw_patient_id.x</th>\n",
       "      <th>st_patient_id.x</th>\n",
       "      <th>...</th>\n",
       "      <th>pcm_fftMag_mfcc_9_</th>\n",
       "      <th>pcm_fftMag_mfcc_10_</th>\n",
       "      <th>pcm_fftMag_mfcc_11_</th>\n",
       "      <th>pcm_fftMag_mfcc_12_</th>\n",
       "      <th>id</th>\n",
       "      <th>missing_mobilerecording_flag</th>\n",
       "      <th>etl_insert_date.y</th>\n",
       "      <th>etl_last_update_date.y</th>\n",
       "      <th>insert_job_id.y</th>\n",
       "      <th>update_job_id.y</th>\n",
       "    </tr>\n",
       "  </thead>\n",
       "  <tbody>\n",
       "    <tr>\n",
       "      <th>0</th>\n",
       "      <td>1</td>\n",
       "      <td>2018-06-26</td>\n",
       "      <td>depression</td>\n",
       "      <td>depression</td>\n",
       "      <td>1</td>\n",
       "      <td>NaN</td>\n",
       "      <td>NaN</td>\n",
       "      <td>NaN</td>\n",
       "      <td>NaN</td>\n",
       "      <td>NaN</td>\n",
       "      <td>...</td>\n",
       "      <td>NaN</td>\n",
       "      <td>NaN</td>\n",
       "      <td>NaN</td>\n",
       "      <td>NaN</td>\n",
       "      <td>NaN</td>\n",
       "      <td>NaN</td>\n",
       "      <td>NaN</td>\n",
       "      <td>NaN</td>\n",
       "      <td>NaN</td>\n",
       "      <td>NaN</td>\n",
       "    </tr>\n",
       "    <tr>\n",
       "      <th>1</th>\n",
       "      <td>2</td>\n",
       "      <td>2018-06-27</td>\n",
       "      <td>depression</td>\n",
       "      <td>depression</td>\n",
       "      <td>1</td>\n",
       "      <td>NaN</td>\n",
       "      <td>NaN</td>\n",
       "      <td>NaN</td>\n",
       "      <td>NaN</td>\n",
       "      <td>NaN</td>\n",
       "      <td>...</td>\n",
       "      <td>NaN</td>\n",
       "      <td>NaN</td>\n",
       "      <td>NaN</td>\n",
       "      <td>NaN</td>\n",
       "      <td>NaN</td>\n",
       "      <td>NaN</td>\n",
       "      <td>NaN</td>\n",
       "      <td>NaN</td>\n",
       "      <td>NaN</td>\n",
       "      <td>NaN</td>\n",
       "    </tr>\n",
       "    <tr>\n",
       "      <th>2</th>\n",
       "      <td>3</td>\n",
       "      <td>2018-06-28</td>\n",
       "      <td>depression</td>\n",
       "      <td>depression</td>\n",
       "      <td>1</td>\n",
       "      <td>NaN</td>\n",
       "      <td>NaN</td>\n",
       "      <td>NaN</td>\n",
       "      <td>NaN</td>\n",
       "      <td>NaN</td>\n",
       "      <td>...</td>\n",
       "      <td>NaN</td>\n",
       "      <td>NaN</td>\n",
       "      <td>NaN</td>\n",
       "      <td>NaN</td>\n",
       "      <td>NaN</td>\n",
       "      <td>NaN</td>\n",
       "      <td>NaN</td>\n",
       "      <td>NaN</td>\n",
       "      <td>NaN</td>\n",
       "      <td>NaN</td>\n",
       "    </tr>\n",
       "    <tr>\n",
       "      <th>3</th>\n",
       "      <td>4</td>\n",
       "      <td>2018-06-29</td>\n",
       "      <td>depression</td>\n",
       "      <td>depression</td>\n",
       "      <td>1</td>\n",
       "      <td>NaN</td>\n",
       "      <td>NaN</td>\n",
       "      <td>NaN</td>\n",
       "      <td>NaN</td>\n",
       "      <td>NaN</td>\n",
       "      <td>...</td>\n",
       "      <td>NaN</td>\n",
       "      <td>NaN</td>\n",
       "      <td>NaN</td>\n",
       "      <td>NaN</td>\n",
       "      <td>NaN</td>\n",
       "      <td>NaN</td>\n",
       "      <td>NaN</td>\n",
       "      <td>NaN</td>\n",
       "      <td>NaN</td>\n",
       "      <td>NaN</td>\n",
       "    </tr>\n",
       "    <tr>\n",
       "      <th>4</th>\n",
       "      <td>5</td>\n",
       "      <td>2018-06-30</td>\n",
       "      <td>depression</td>\n",
       "      <td>depression</td>\n",
       "      <td>1</td>\n",
       "      <td>NaN</td>\n",
       "      <td>NaN</td>\n",
       "      <td>NaN</td>\n",
       "      <td>NaN</td>\n",
       "      <td>NaN</td>\n",
       "      <td>...</td>\n",
       "      <td>NaN</td>\n",
       "      <td>NaN</td>\n",
       "      <td>NaN</td>\n",
       "      <td>NaN</td>\n",
       "      <td>NaN</td>\n",
       "      <td>NaN</td>\n",
       "      <td>NaN</td>\n",
       "      <td>NaN</td>\n",
       "      <td>NaN</td>\n",
       "      <td>NaN</td>\n",
       "    </tr>\n",
       "    <tr>\n",
       "      <th>...</th>\n",
       "      <td>...</td>\n",
       "      <td>...</td>\n",
       "      <td>...</td>\n",
       "      <td>...</td>\n",
       "      <td>...</td>\n",
       "      <td>...</td>\n",
       "      <td>...</td>\n",
       "      <td>...</td>\n",
       "      <td>...</td>\n",
       "      <td>...</td>\n",
       "      <td>...</td>\n",
       "      <td>...</td>\n",
       "      <td>...</td>\n",
       "      <td>...</td>\n",
       "      <td>...</td>\n",
       "      <td>...</td>\n",
       "      <td>...</td>\n",
       "      <td>...</td>\n",
       "      <td>...</td>\n",
       "      <td>...</td>\n",
       "      <td>...</td>\n",
       "    </tr>\n",
       "    <tr>\n",
       "      <th>1764672</th>\n",
       "      <td>1764673</td>\n",
       "      <td>2018-11-15</td>\n",
       "      <td>mixed</td>\n",
       "      <td>depression</td>\n",
       "      <td>6</td>\n",
       "      <td>9829.0</td>\n",
       "      <td>43781.0</td>\n",
       "      <td>43781.0</td>\n",
       "      <td>165.0</td>\n",
       "      <td>159.0</td>\n",
       "      <td>...</td>\n",
       "      <td>-20.764790</td>\n",
       "      <td>17.665670</td>\n",
       "      <td>-13.596960</td>\n",
       "      <td>58.86929</td>\n",
       "      <td>89761fd5-f62e-4e6f-87a5-d9eef749b971</td>\n",
       "      <td>False</td>\n",
       "      <td>2018-12-07 19:19:45</td>\n",
       "      <td>2018-12-07 19:19:45</td>\n",
       "      <td>0.0</td>\n",
       "      <td>0.0</td>\n",
       "    </tr>\n",
       "    <tr>\n",
       "      <th>1764673</th>\n",
       "      <td>1764674</td>\n",
       "      <td>2018-11-15</td>\n",
       "      <td>mixed</td>\n",
       "      <td>depression</td>\n",
       "      <td>6</td>\n",
       "      <td>9829.0</td>\n",
       "      <td>43781.0</td>\n",
       "      <td>43781.0</td>\n",
       "      <td>165.0</td>\n",
       "      <td>159.0</td>\n",
       "      <td>...</td>\n",
       "      <td>-20.462840</td>\n",
       "      <td>-0.776814</td>\n",
       "      <td>0.037637</td>\n",
       "      <td>53.00073</td>\n",
       "      <td>89761fd5-f62e-4e6f-87a5-d9eef749b971</td>\n",
       "      <td>False</td>\n",
       "      <td>2018-12-07 19:19:45</td>\n",
       "      <td>2018-12-07 19:19:45</td>\n",
       "      <td>0.0</td>\n",
       "      <td>0.0</td>\n",
       "    </tr>\n",
       "    <tr>\n",
       "      <th>1764674</th>\n",
       "      <td>1764675</td>\n",
       "      <td>2018-11-15</td>\n",
       "      <td>mixed</td>\n",
       "      <td>depression</td>\n",
       "      <td>6</td>\n",
       "      <td>9829.0</td>\n",
       "      <td>43781.0</td>\n",
       "      <td>43781.0</td>\n",
       "      <td>165.0</td>\n",
       "      <td>159.0</td>\n",
       "      <td>...</td>\n",
       "      <td>0.696772</td>\n",
       "      <td>1.193532</td>\n",
       "      <td>-9.974019</td>\n",
       "      <td>46.98746</td>\n",
       "      <td>89761fd5-f62e-4e6f-87a5-d9eef749b971</td>\n",
       "      <td>False</td>\n",
       "      <td>2018-12-07 19:19:45</td>\n",
       "      <td>2018-12-07 19:19:45</td>\n",
       "      <td>0.0</td>\n",
       "      <td>0.0</td>\n",
       "    </tr>\n",
       "    <tr>\n",
       "      <th>1764675</th>\n",
       "      <td>1764676</td>\n",
       "      <td>2018-11-15</td>\n",
       "      <td>mixed</td>\n",
       "      <td>depression</td>\n",
       "      <td>6</td>\n",
       "      <td>9829.0</td>\n",
       "      <td>43781.0</td>\n",
       "      <td>43781.0</td>\n",
       "      <td>165.0</td>\n",
       "      <td>159.0</td>\n",
       "      <td>...</td>\n",
       "      <td>-3.552614</td>\n",
       "      <td>2.233069</td>\n",
       "      <td>-9.815199</td>\n",
       "      <td>44.97512</td>\n",
       "      <td>89761fd5-f62e-4e6f-87a5-d9eef749b971</td>\n",
       "      <td>False</td>\n",
       "      <td>2018-12-07 19:19:45</td>\n",
       "      <td>2018-12-07 19:19:45</td>\n",
       "      <td>0.0</td>\n",
       "      <td>0.0</td>\n",
       "    </tr>\n",
       "    <tr>\n",
       "      <th>1764676</th>\n",
       "      <td>1764677</td>\n",
       "      <td>2018-11-15</td>\n",
       "      <td>mixed</td>\n",
       "      <td>depression</td>\n",
       "      <td>6</td>\n",
       "      <td>9829.0</td>\n",
       "      <td>43781.0</td>\n",
       "      <td>43781.0</td>\n",
       "      <td>165.0</td>\n",
       "      <td>159.0</td>\n",
       "      <td>...</td>\n",
       "      <td>0.000000</td>\n",
       "      <td>0.000000</td>\n",
       "      <td>0.000000</td>\n",
       "      <td>0.00000</td>\n",
       "      <td>89761fd5-f62e-4e6f-87a5-d9eef749b971</td>\n",
       "      <td>False</td>\n",
       "      <td>2018-12-07 19:19:45</td>\n",
       "      <td>2018-12-07 19:19:45</td>\n",
       "      <td>0.0</td>\n",
       "      <td>0.0</td>\n",
       "    </tr>\n",
       "  </tbody>\n",
       "</table>\n",
       "<p>1764677 rows × 132 columns</p>\n",
       "</div>"
      ],
      "text/plain": [
       "         Unnamed: 0         day       state   hamd_ymrs  visit_number  \\\n",
       "0                 1  2018-06-26  depression  depression             1   \n",
       "1                 2  2018-06-27  depression  depression             1   \n",
       "2                 3  2018-06-28  depression  depression             1   \n",
       "3                 4  2018-06-29  depression  depression             1   \n",
       "4                 5  2018-06-30  depression  depression             1   \n",
       "...             ...         ...         ...         ...           ...   \n",
       "1764672     1764673  2018-11-15       mixed  depression             6   \n",
       "1764673     1764674  2018-11-15       mixed  depression             6   \n",
       "1764674     1764675  2018-11-15       mixed  depression             6   \n",
       "1764675     1764676  2018-11-15       mixed  depression             6   \n",
       "1764676     1764677  2018-11-15       mixed  depression             6   \n",
       "\n",
       "         patient_id  dw_mobilerecording_id  st_mobilerecording_id.x  \\\n",
       "0               NaN                    NaN                      NaN   \n",
       "1               NaN                    NaN                      NaN   \n",
       "2               NaN                    NaN                      NaN   \n",
       "3               NaN                    NaN                      NaN   \n",
       "4               NaN                    NaN                      NaN   \n",
       "...             ...                    ...                      ...   \n",
       "1764672      9829.0                43781.0                  43781.0   \n",
       "1764673      9829.0                43781.0                  43781.0   \n",
       "1764674      9829.0                43781.0                  43781.0   \n",
       "1764675      9829.0                43781.0                  43781.0   \n",
       "1764676      9829.0                43781.0                  43781.0   \n",
       "\n",
       "         dw_patient_id.x  st_patient_id.x  ...  pcm_fftMag_mfcc_9_  \\\n",
       "0                    NaN              NaN  ...                 NaN   \n",
       "1                    NaN              NaN  ...                 NaN   \n",
       "2                    NaN              NaN  ...                 NaN   \n",
       "3                    NaN              NaN  ...                 NaN   \n",
       "4                    NaN              NaN  ...                 NaN   \n",
       "...                  ...              ...  ...                 ...   \n",
       "1764672            165.0            159.0  ...          -20.764790   \n",
       "1764673            165.0            159.0  ...          -20.462840   \n",
       "1764674            165.0            159.0  ...            0.696772   \n",
       "1764675            165.0            159.0  ...           -3.552614   \n",
       "1764676            165.0            159.0  ...            0.000000   \n",
       "\n",
       "         pcm_fftMag_mfcc_10_ pcm_fftMag_mfcc_11_ pcm_fftMag_mfcc_12_  \\\n",
       "0                        NaN                 NaN                 NaN   \n",
       "1                        NaN                 NaN                 NaN   \n",
       "2                        NaN                 NaN                 NaN   \n",
       "3                        NaN                 NaN                 NaN   \n",
       "4                        NaN                 NaN                 NaN   \n",
       "...                      ...                 ...                 ...   \n",
       "1764672            17.665670          -13.596960            58.86929   \n",
       "1764673            -0.776814            0.037637            53.00073   \n",
       "1764674             1.193532           -9.974019            46.98746   \n",
       "1764675             2.233069           -9.815199            44.97512   \n",
       "1764676             0.000000            0.000000             0.00000   \n",
       "\n",
       "                                           id missing_mobilerecording_flag  \\\n",
       "0                                         NaN                          NaN   \n",
       "1                                         NaN                          NaN   \n",
       "2                                         NaN                          NaN   \n",
       "3                                         NaN                          NaN   \n",
       "4                                         NaN                          NaN   \n",
       "...                                       ...                          ...   \n",
       "1764672  89761fd5-f62e-4e6f-87a5-d9eef749b971                        False   \n",
       "1764673  89761fd5-f62e-4e6f-87a5-d9eef749b971                        False   \n",
       "1764674  89761fd5-f62e-4e6f-87a5-d9eef749b971                        False   \n",
       "1764675  89761fd5-f62e-4e6f-87a5-d9eef749b971                        False   \n",
       "1764676  89761fd5-f62e-4e6f-87a5-d9eef749b971                        False   \n",
       "\n",
       "           etl_insert_date.y etl_last_update_date.y  insert_job_id.y  \\\n",
       "0                        NaN                    NaN              NaN   \n",
       "1                        NaN                    NaN              NaN   \n",
       "2                        NaN                    NaN              NaN   \n",
       "3                        NaN                    NaN              NaN   \n",
       "4                        NaN                    NaN              NaN   \n",
       "...                      ...                    ...              ...   \n",
       "1764672  2018-12-07 19:19:45    2018-12-07 19:19:45              0.0   \n",
       "1764673  2018-12-07 19:19:45    2018-12-07 19:19:45              0.0   \n",
       "1764674  2018-12-07 19:19:45    2018-12-07 19:19:45              0.0   \n",
       "1764675  2018-12-07 19:19:45    2018-12-07 19:19:45              0.0   \n",
       "1764676  2018-12-07 19:19:45    2018-12-07 19:19:45              0.0   \n",
       "\n",
       "        update_job_id.y  \n",
       "0                   NaN  \n",
       "1                   NaN  \n",
       "2                   NaN  \n",
       "3                   NaN  \n",
       "4                   NaN  \n",
       "...                 ...  \n",
       "1764672             0.0  \n",
       "1764673             0.0  \n",
       "1764674             0.0  \n",
       "1764675             0.0  \n",
       "1764676             0.0  \n",
       "\n",
       "[1764677 rows x 132 columns]"
      ]
     },
     "execution_count": 6,
     "metadata": {},
     "output_type": "execute_result"
    }
   ],
   "source": [
    "data"
   ]
  },
  {
   "cell_type": "code",
   "execution_count": 34,
   "metadata": {},
   "outputs": [],
   "source": [
    "#data['dw_mobilerecording_id'].unique()\n",
    "r1 = data.loc[(data.dw_mobilerecording_id == 33908) & (data.frame_nr <= 100) & (data.chunk_number == 0),:]\n",
    "r2 = data.loc[(data.dw_mobilerecording_id == 33505) & (data.frame_nr <= 100) & (data.chunk_number == 0),:]\n",
    "r3 = data.loc[(data.dw_mobilerecording_id == 34091) & (data.frame_nr <= 100) & (data.chunk_number == 0),:]\n",
    "r4 = data.loc[(data.dw_mobilerecording_id == 34093) & (data.frame_nr <= 100) & (data.chunk_number == 0),:]\n",
    "#33005., 33224., 33505., 33802., 33908., 34091., 34093., 34090.,"
   ]
  },
  {
   "cell_type": "code",
   "execution_count": 9,
   "metadata": {},
   "outputs": [],
   "source": [
    "x1 = one_call[['dw_mobilerecording_id','chunk_number','frame_nr','pcm_zcr_sma']].loc[one_call.chunk_number == 0 ,:]\n",
    "x2 = two_call[['dw_mobilerecording_id','chunk_number','frame_nr','pcm_zcr_sma']].loc[two_call.chunk_number == 0 ,:]\n",
    "x3 = three_call[['dw_mobilerecording_id','chunk_number','frame_nr','pcm_zcr_sma']].loc[three_call.chunk_number == 0 ,:]\n",
    "\n",
    "X1 = x1.index.values.astype(float)\n",
    "Y1 = x1.pcm_zcr_sma.astype(float)\n",
    "X1= np.arange(0,len(X1),1)\n",
    "\n",
    "X2 = x2.index.values.astype(float)\n",
    "Y2 = x2.pcm_zcr_sma.astype(float)\n",
    "X2= np.arange(0,len(X2),1)\n",
    "\n",
    "X3 = x3.index.values.astype(float)\n",
    "Y3 = x3.pcm_zcr_sma.astype(float)\n",
    "X3= np.arange(0,len(X3),1)\n"
   ]
  },
  {
   "cell_type": "code",
   "execution_count": 10,
   "metadata": {},
   "outputs": [
    {
     "name": "stderr",
     "output_type": "stream",
     "text": [
      "C:\\Users\\user\\AppData\\Local\\Temp\\ipykernel_20440\\1179790707.py:6: UserWarning: Matplotlib is currently using module://matplotlib_inline.backend_inline, which is a non-GUI backend, so cannot show the figure.\n",
      "  fig.show()\n"
     ]
    },
    {
     "data": {
      "image/png": "[encoded data removed]",
      "text/plain": [
       "<Figure size 640x480 with 3 Axes>"
      ]
     },
     "metadata": {},
     "output_type": "display_data"
    }
   ],
   "source": [
    "fig,(ax1, ax2, ax3) = plt.subplots(1,3)\n",
    "\n",
    "ax1.plot(X1,Y1)\n",
    "ax2.plot(X2,Y2)\n",
    "ax3.plot(X3,Y3)\n",
    "fig.show()\n",
    "#plt.plot(x1.index, x1['f0_sma'], type = )"
   ]
  },
  {
   "cell_type": "code",
   "execution_count": 22,
   "metadata": {},
   "outputs": [],
   "source": [
    "X = to_time_series_dataset([x1, x2, x3])\n",
    "y = [0, 1, 1]"
   ]
  },
  {
   "cell_type": "code",
   "execution_count": null,
   "metadata": {},
   "outputs": [],
   "source": []
  },
  {
   "cell_type": "code",
   "execution_count": 23,
   "metadata": {},
   "outputs": [
    {
     "name": "stdout",
     "output_type": "stream",
     "text": [
      "[[[0.00000000e+00 0.00000000e+00 0.00000000e+00 1.00000000e+00]\n",
      "  [0.00000000e+00 0.00000000e+00 3.35570470e-04 9.10583912e-01]\n",
      "  [0.00000000e+00 0.00000000e+00 6.71140940e-04 7.31751735e-01]\n",
      "  ...\n",
      "  [           nan            nan            nan            nan]\n",
      "  [           nan            nan            nan            nan]\n",
      "  [           nan            nan            nan            nan]]\n",
      "\n",
      " [[0.00000000e+00 0.00000000e+00 0.00000000e+00 8.53564519e-01]\n",
      "  [0.00000000e+00 0.00000000e+00 3.34001336e-04 6.41618406e-01]\n",
      "  [0.00000000e+00 0.00000000e+00 6.68002672e-04 3.69942125e-01]\n",
      "  ...\n",
      "  [0.00000000e+00 0.00000000e+00 9.99331997e-01 1.40655089e-01]\n",
      "  [0.00000000e+00 0.00000000e+00 9.99665999e-01 1.19460524e-01]\n",
      "  [0.00000000e+00 0.00000000e+00 1.00000000e+00 7.32177521e-02]]\n",
      "\n",
      " [[0.00000000e+00 0.00000000e+00 0.00000000e+00 1.00000000e+00]\n",
      "  [0.00000000e+00 0.00000000e+00 3.34001336e-04 9.94699647e-01]\n",
      "  [0.00000000e+00 0.00000000e+00 6.68002672e-04 9.01060106e-01]\n",
      "  ...\n",
      "  [0.00000000e+00 0.00000000e+00 9.99331997e-01 7.15547632e-01]\n",
      "  [0.00000000e+00 0.00000000e+00 9.99665999e-01 7.34982331e-01]\n",
      "  [0.00000000e+00 0.00000000e+00 1.00000000e+00 7.59717278e-01]]]\n"
     ]
    }
   ],
   "source": [
    "from tslearn.preprocessing import TimeSeriesScalerMinMax\n",
    "X_scaled = TimeSeriesScalerMinMax().fit_transform(X)\n",
    "print(X_scaled)"
   ]
  },
  {
   "cell_type": "code",
   "execution_count": 24,
   "metadata": {},
   "outputs": [
    {
     "data": {
      "text/html": [
       "<style>#sk-container-id-2 {color: black;background-color: white;}#sk-container-id-2 pre{padding: 0;}#sk-container-id-2 div.sk-toggleable {background-color: white;}#sk-container-id-2 label.sk-toggleable__label {cursor: pointer;display: block;width: 100%;margin-bottom: 0;padding: 0.3em;box-sizing: border-box;text-align: center;}#sk-container-id-2 label.sk-toggleable__label-arrow:before {content: \"▸\";float: left;margin-right: 0.25em;color: #696969;}#sk-container-id-2 label.sk-toggleable__label-arrow:hover:before {color: black;}#sk-container-id-2 div.sk-estimator:hover label.sk-toggleable__label-arrow:before {color: black;}#sk-container-id-2 div.sk-toggleable__content {max-height: 0;max-width: 0;overflow: hidden;text-align: left;background-color: #f0f8ff;}#sk-container-id-2 div.sk-toggleable__content pre {margin: 0.2em;color: black;border-radius: 0.25em;background-color: #f0f8ff;}#sk-container-id-2 input.sk-toggleable__control:checked~div.sk-toggleable__content {max-height: 200px;max-width: 100%;overflow: auto;}#sk-container-id-2 input.sk-toggleable__control:checked~label.sk-toggleable__label-arrow:before {content: \"▾\";}#sk-container-id-2 div.sk-estimator input.sk-toggleable__control:checked~label.sk-toggleable__label {background-color: #d4ebff;}#sk-container-id-2 div.sk-label input.sk-toggleable__control:checked~label.sk-toggleable__label {background-color: #d4ebff;}#sk-container-id-2 input.sk-hidden--visually {border: 0;clip: rect(1px 1px 1px 1px);clip: rect(1px, 1px, 1px, 1px);height: 1px;margin: -1px;overflow: hidden;padding: 0;position: absolute;width: 1px;}#sk-container-id-2 div.sk-estimator {font-family: monospace;background-color: #f0f8ff;border: 1px dotted black;border-radius: 0.25em;box-sizing: border-box;margin-bottom: 0.5em;}#sk-container-id-2 div.sk-estimator:hover {background-color: #d4ebff;}#sk-container-id-2 div.sk-parallel-item::after {content: \"\";width: 100%;border-bottom: 1px solid gray;flex-grow: 1;}#sk-container-id-2 div.sk-label:hover label.sk-toggleable__label {background-color: #d4ebff;}#sk-container-id-2 div.sk-serial::before {content: \"\";position: absolute;border-left: 1px solid gray;box-sizing: border-box;top: 0;bottom: 0;left: 50%;z-index: 0;}#sk-container-id-2 div.sk-serial {display: flex;flex-direction: column;align-items: center;background-color: white;padding-right: 0.2em;padding-left: 0.2em;position: relative;}#sk-container-id-2 div.sk-item {position: relative;z-index: 1;}#sk-container-id-2 div.sk-parallel {display: flex;align-items: stretch;justify-content: center;background-color: white;position: relative;}#sk-container-id-2 div.sk-item::before, #sk-container-id-2 div.sk-parallel-item::before {content: \"\";position: absolute;border-left: 1px solid gray;box-sizing: border-box;top: 0;bottom: 0;left: 50%;z-index: -1;}#sk-container-id-2 div.sk-parallel-item {display: flex;flex-direction: column;z-index: 1;position: relative;background-color: white;}#sk-container-id-2 div.sk-parallel-item:first-child::after {align-self: flex-end;width: 50%;}#sk-container-id-2 div.sk-parallel-item:last-child::after {align-self: flex-start;width: 50%;}#sk-container-id-2 div.sk-parallel-item:only-child::after {width: 0;}#sk-container-id-2 div.sk-dashed-wrapped {border: 1px dashed gray;margin: 0 0.4em 0.5em 0.4em;box-sizing: border-box;padding-bottom: 0.4em;background-color: white;}#sk-container-id-2 div.sk-label label {font-family: monospace;font-weight: bold;display: inline-block;line-height: 1.2em;}#sk-container-id-2 div.sk-label-container {text-align: center;}#sk-container-id-2 div.sk-container {/* jupyter's `normalize.less` sets `[hidden] { display: none; }` but bootstrap.min.css set `[hidden] { display: none !important; }` so we also need the `!important` here to be able to override the default hidden behavior on the sphinx rendered scikit-learn.org. See: https://github.com/scikit-learn/scikit-learn/issues/21755 */display: inline-block !important;position: relative;}#sk-container-id-2 div.sk-text-repr-fallback {display: none;}</style><div id=\"sk-container-id-2\" class=\"sk-top-container\"><div class=\"sk-text-repr-fallback\"><pre>TimeSeriesKMeans(max_iter=10, metric=&#x27;dtw&#x27;, random_state=123)</pre><b>In a Jupyter environment, please rerun this cell to show the HTML representation or trust the notebook. <br />On GitHub, the HTML representation is unable to render, please try loading this page with nbviewer.org.</b></div><div class=\"sk-container\" hidden><div class=\"sk-item\"><div class=\"sk-estimator sk-toggleable\"><input class=\"sk-toggleable__control sk-hidden--visually\" id=\"sk-estimator-id-2\" type=\"checkbox\" checked><label for=\"sk-estimator-id-2\" class=\"sk-toggleable__label sk-toggleable__label-arrow\">TimeSeriesKMeans</label><div class=\"sk-toggleable__content\"><pre>TimeSeriesKMeans(max_iter=10, metric=&#x27;dtw&#x27;, random_state=123)</pre></div></div></div></div></div>"
      ],
      "text/plain": [
       "TimeSeriesKMeans(max_iter=10, metric='dtw', random_state=123)"
      ]
     },
     "execution_count": 24,
     "metadata": {},
     "output_type": "execute_result"
    }
   ],
   "source": [
    "from tslearn.clustering import TimeSeriesKMeans\n",
    "\n",
    "model = TimeSeriesKMeans(n_clusters=3, metric=\"dtw\",\n",
    "                         max_iter=10, random_state=123)\n",
    "model.fit(X_scaled)"
   ]
  },
  {
   "cell_type": "code",
   "execution_count": 25,
   "metadata": {},
   "outputs": [],
   "source": [
    "clusters = model.fit_transform(X_scaled)"
   ]
  },
  {
   "cell_type": "code",
   "execution_count": 26,
   "metadata": {},
   "outputs": [
    {
     "data": {
      "text/plain": [
       "(3, 2995, 4)"
      ]
     },
     "execution_count": 26,
     "metadata": {},
     "output_type": "execute_result"
    }
   ],
   "source": [
    "X_scaled.shape"
   ]
  },
  {
   "cell_type": "code",
   "execution_count": 27,
   "metadata": {},
   "outputs": [],
   "source": [
    "import math\n",
    "cluster_count = math.ceil(math.sqrt(len(X)))  #2 wychodzi"
   ]
  },
  {
   "cell_type": "code",
   "execution_count": 28,
   "metadata": {},
   "outputs": [
    {
     "data": {
      "text/plain": [
       "(3, 2995, 4)"
      ]
     },
     "execution_count": 28,
     "metadata": {},
     "output_type": "execute_result"
    }
   ],
   "source": [
    "km_dba = TimeSeriesKMeans(n_clusters=3, metric=\"dtw\", max_iter=5,\n",
    "                          max_iter_barycenter=5,\n",
    "                          random_state=0).fit(X_scaled)\n",
    "km_dba.cluster_centers_.shape"
   ]
  },
  {
   "cell_type": "code",
   "execution_count": 29,
   "metadata": {},
   "outputs": [
    {
     "data": {
      "text/plain": [
       "array([[[0.00000000e+00, 0.00000000e+00, 0.00000000e+00, 1.00000000e+00],\n",
       "        [0.00000000e+00, 0.00000000e+00, 3.35570470e-04, 9.10583912e-01],\n",
       "        [0.00000000e+00, 0.00000000e+00, 6.71140940e-04, 7.31751735e-01],\n",
       "        ...,\n",
       "        [0.00000000e+00, 0.00000000e+00, 9.99328859e-01, 5.69343024e-01],\n",
       "        [0.00000000e+00, 0.00000000e+00, 9.99664430e-01, 5.63868572e-01],\n",
       "        [0.00000000e+00, 0.00000000e+00, 1.00000000e+00, 5.16423356e-01]],\n",
       "\n",
       "       [[0.00000000e+00, 0.00000000e+00, 0.00000000e+00, 1.00000000e+00],\n",
       "        [0.00000000e+00, 0.00000000e+00, 3.34001336e-04, 9.94699647e-01],\n",
       "        [0.00000000e+00, 0.00000000e+00, 6.68002672e-04, 9.01060106e-01],\n",
       "        ...,\n",
       "        [0.00000000e+00, 0.00000000e+00, 9.99331997e-01, 7.15547632e-01],\n",
       "        [0.00000000e+00, 0.00000000e+00, 9.99665999e-01, 7.34982331e-01],\n",
       "        [0.00000000e+00, 0.00000000e+00, 1.00000000e+00, 7.59717278e-01]],\n",
       "\n",
       "       [[0.00000000e+00, 0.00000000e+00, 0.00000000e+00, 8.53564519e-01],\n",
       "        [0.00000000e+00, 0.00000000e+00, 3.34001336e-04, 6.41618406e-01],\n",
       "        [0.00000000e+00, 0.00000000e+00, 6.68002672e-04, 3.69942125e-01],\n",
       "        ...,\n",
       "        [0.00000000e+00, 0.00000000e+00, 9.99331997e-01, 1.40655089e-01],\n",
       "        [0.00000000e+00, 0.00000000e+00, 9.99665999e-01, 1.19460524e-01],\n",
       "        [0.00000000e+00, 0.00000000e+00, 1.00000000e+00, 7.32177521e-02]]])"
      ]
     },
     "execution_count": 29,
     "metadata": {},
     "output_type": "execute_result"
    }
   ],
   "source": [
    "km_dba.cluster_centers_\n"
   ]
  },
  {
   "cell_type": "code",
   "execution_count": null,
   "metadata": {},
   "outputs": [],
   "source": []
  },
  {
   "cell_type": "code",
   "execution_count": null,
   "metadata": {},
   "outputs": [],
   "source": []
  },
  {
   "cell_type": "code",
   "execution_count": null,
   "metadata": {},
   "outputs": [],
   "source": []
  }
 ],
 "metadata": {
  "kernelspec": {
   "display_name": "Python 3.9.13 ('ml')",
   "language": "python",
   "name": "python3"
  },
  "language_info": {
   "codemirror_mode": {
    "name": "ipython",
    "version": 3
   },
   "file_extension": ".py",
   "mimetype": "text/x-python",
   "name": "python",
   "nbconvert_exporter": "python",
   "pygments_lexer": "ipython3",
   "version": "3.9.13"
  },
  "orig_nbformat": 4,
  "vscode": {
   "interpreter": {
    "hash": "8ea266b9a32e539376479ecefb4b43de94cddfc186952a2290bc119c664ac37e"
   }
  }
 },
 "nbformat": 4,
 "nbformat_minor": 2
}
