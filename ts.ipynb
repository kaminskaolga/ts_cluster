{
 "cells": [
  {
   "cell_type": "code",
   "execution_count": 1,
   "metadata": {},
   "outputs": [],
   "source": [
    "import pandas as pd\n",
    "import numpy as np\n",
    "import tslearn\n",
    "import matplotlib.pyplot as plt\n",
    "#import tslearn.utils"
   ]
  },
  {
   "cell_type": "code",
   "execution_count": 29,
   "metadata": {},
   "outputs": [],
   "source": [
    "params = [    \"pcm_LOGenergy_sma\",\n",
    "    \"pcm_zcr_sma\" ,\n",
    "    \"voiceprob_sma\" ,\n",
    "    \"f0_sma\" ,\n",
    "    \"f0env_sma\",\n",
    "    \"pcm_fftMag_fband0-250_sma\" ,\n",
    "    \"pcm_fftMag_fband0-650_sma\",\n",
    "    \"pcm_fftMag_spectralRollOff25_0_sma\" ,\n",
    "    \"pcm_fftMag_spectralRollOff50_0_sma\",\n",
    "    \"pcm_fftMag_spectralRollOff75_0_sma\",\n",
    "    \"pcm_fftMag_spectralRollOff90_0_sma\", \n",
    "    \"pcm_fftmag_spectralflux_sma\",\n",
    "    \"pcm_fftmag_spectralcentroid_sma\" ,\n",
    "    \"pcm_fftmag_spectralmaxpos_sma\" ,\n",
    "    \"pcm_fftmag_spectralminpos_sma\" ,\n",
    "    \"f0final_sma\" ,\n",
    "    \"voicingfinalunclipped_sma\",\n",
    "    \"jitterlocal_sma\",\n",
    "    \"jitterddp_sma\",\n",
    "    \"shimmerlocal_sma\",\n",
    "    \"loghnr_sma\",\n",
    "    \"audspec_lengthl1norm_sma\" ,\n",
    "    \"audspecrasta_lengthl1norm_sma\" ,\n",
    "    \"pcm_rmsenergy_sma\",\n",
    "    \"audSpec_Rfilt_sma_compare_0_\",\n",
    "    \"audSpec_Rfilt_sma_compare_1_\" ,\n",
    "    \"audSpec_Rfilt_sma_compare_2_\" ,\n",
    "    \"audSpec_Rfilt_sma_compare_3_\" ,\n",
    "    \"audSpec_Rfilt_sma_compare_4_\",\n",
    "    \"audSpec_Rfilt_sma_compare_5_\",\n",
    "    \"audSpec_Rfilt_sma_compare_6_\" ,\n",
    "    \"audSpec_Rfilt_sma_compare_7_\",\n",
    "    \"audSpec_Rfilt_sma_compare_8_\",\n",
    "    \"audSpec_Rfilt_sma_compare_9_\",\n",
    "    \"audSpec_Rfilt_sma_compare_10_\",\n",
    "    \"audSpec_Rfilt_sma_compare_11_\",\n",
    "    \"audSpec_Rfilt_sma_compare_12_\",\n",
    "    \"audSpec_Rfilt_sma_compare_13_\",\n",
    "    \"audSpec_Rfilt_sma_compare_14_\",\n",
    "    \"audSpec_Rfilt_sma_compare_15_\" ,\n",
    "    \"audSpec_Rfilt_sma_compare_16_\",\n",
    "    \"audSpec_Rfilt_sma_compare_17_\",\n",
    "    \"audSpec_Rfilt_sma_compare_18_\" ,\n",
    "    \"audSpec_Rfilt_sma_compare_19_\" ,\n",
    "    \"audSpec_Rfilt_sma_compare_20_\" ,\n",
    "    \"audSpec_Rfilt_sma_compare_21_\" ,\n",
    "    \"audSpec_Rfilt_sma_compare_22_\" ,\n",
    "    \"audSpec_Rfilt_sma_compare_23_\" ,\n",
    "    \"audSpec_Rfilt_sma_compare_24_\" ,\n",
    "    \"audSpec_Rfilt_sma_compare_25_\",\n",
    "    \"pcm_fftMag_fband250-650_sma_compare\" ,\n",
    "    \"pcm_fftMag_fband1000-4000_sma_compare\",\n",
    "    \"pcm_fftmag_spectralentropy_sma_compare\",\n",
    "    \"pcm_fftmag_spectralvariance_sma_compare\" ,\n",
    "    \"pcm_fftmag_spectralskewness_sma_compare\",\n",
    "    \"pcm_fftmag_spectralkurtosis_sma_compare\" ,\n",
    "    \"pcm_fftmag_psysharpness_sma_compare\" ,\n",
    "    \"pcm_fftmag_spectralharmonicity_sma_compare\",\n",
    "    \"loudness_sma3\",\n",
    "    \"alpharatio_sma3\",\n",
    "    \"hammarbergindex_sma3\" ,\n",
    "    \"slope0-500_sma3\" ,\n",
    "    \"slope500-1500_sma3\",\n",
    "    \"F0semitoneFrom27_5Hz_sma3nz\",\n",
    "    \"logRelF0-H1-H2_sma3nz\",\n",
    "    \"logRelF0-H1-A3_sma3nz\" ,\n",
    "    \"f1frequency_sma3nz\" ,\n",
    "    \"f1bandwidth_sma3nz\" ,\n",
    "    \"f1amplitudelogrelf0_sma3nz\" ,\n",
    "    \"f2frequency_sma3nz\" ,\n",
    "    \"f2amplitudelogrelf0_sma3nz\" ,\n",
    "    \"f3frequency_sma3nz\" ,\n",
    "    \"f3amplitudelogrelf0_sma3nz\",\n",
    "    \"pcm_fftMag_mfcc_0_\" ,\n",
    "    \"pcm_fftMag_mfcc_1_\" ,\n",
    "    \"pcm_fftMag_mfcc_2_\" ,\n",
    "    \"pcm_fftMag_mfcc_3_\",\n",
    "    \"pcm_fftMag_mfcc_4_\" ,\n",
    "    \"pcm_fftMag_mfcc_5_\" ,\n",
    "    \"pcm_fftMag_mfcc_6_\",\n",
    "    \"pcm_fftMag_mfcc_7_\",\n",
    "    \"pcm_fftMag_mfcc_8_\",\n",
    "    \"pcm_fftMag_mfcc_9_\",\n",
    "    \"pcm_fftMag_mfcc_10_\",\n",
    "    \"pcm_fftMag_mfcc_11_\",\n",
    "    \"pcm_fftMag_mfcc_12_\"\n",
    "  ]"
   ]
  },
  {
   "cell_type": "code",
   "execution_count": 37,
   "metadata": {},
   "outputs": [],
   "source": [
    "colnames = ['day','hamd_ymrs','patient_id', 'dw_mobilerecording_id', 'frame_nr'] + params"
   ]
  },
  {
   "cell_type": "code",
   "execution_count": 33,
   "metadata": {},
   "outputs": [
    {
     "name": "stderr",
     "output_type": "stream",
     "text": [
      "C:\\Users\\user\\AppData\\Local\\Temp\\ipykernel_9988\\2713331251.py:1: DtypeWarning: Columns (15,16,17,19,21,24,25,26,27,28,127) have mixed types. Specify dtype option on import or set low_memory=False.\n",
      "  data = pd.read_csv(\"C:\\\\Users\\\\user\\\\Documents\\\\dane_chad\\\\dane_165.csv\") #1472\n"
     ]
    }
   ],
   "source": [
    "data = pd.read_csv(\"C:\\\\Users\\\\user\\\\Documents\\\\dane_chad\\\\dane_165.csv\") #1472\n",
    "data = data.loc[(data.frame_nr <= 100) & (data.chunk_number == 0), :]"
   ]
  },
  {
   "cell_type": "code",
   "execution_count": 34,
   "metadata": {},
   "outputs": [
    {
     "name": "stderr",
     "output_type": "stream",
     "text": [
      "C:\\Users\\user\\AppData\\Local\\Temp\\ipykernel_9988\\1363123466.py:1: DtypeWarning: Columns (15,16,17,19,21,24,25,26,27,28,127) have mixed types. Specify dtype option on import or set low_memory=False.\n",
      "  data2 = pd.read_csv(\"C:\\\\Users\\\\user\\\\Documents\\\\dane_chad\\\\dane_90.csv\") #6139\n"
     ]
    }
   ],
   "source": [
    "data2 = pd.read_csv(\"C:\\\\Users\\\\user\\\\Documents\\\\dane_chad\\\\dane_90.csv\") #6139\n",
    "data2 = data2.loc[(data2.frame_nr <= 100) & (data2.chunk_number == 0), :]"
   ]
  },
  {
   "cell_type": "code",
   "execution_count": 39,
   "metadata": {},
   "outputs": [],
   "source": [
    "data = data[colnames]\n",
    "data2 = data2[colnames]"
   ]
  },
  {
   "cell_type": "code",
   "execution_count": 5,
   "metadata": {},
   "outputs": [],
   "source": [
    "#data['dw_mobilerecording_id'].unique()\n",
    "r1 = data.loc[(data.dw_mobilerecording_id == 33908) ,:]\n",
    "r2 = data.loc[(data.dw_mobilerecording_id == 33505), :]\n",
    "r3 = data.loc[(data.dw_mobilerecording_id == 34091), :]\n",
    "r4 = data.loc[(data.dw_mobilerecording_id == 34093), :]\n",
    "#33005., 33224., 33505., 33802., 33908., 34091., 34093., 34090.,"
   ]
  },
  {
   "cell_type": "code",
   "execution_count": 31,
   "metadata": {},
   "outputs": [],
   "source": [
    "r1_list = []\n",
    "\n",
    "r1_dict = {elem : pd.DataFrame() for elem in params}\n",
    "\n",
    "for key in r1_dict.keys():\n",
    "    r1_dict[key] = r1[:][key]"
   ]
  },
  {
   "cell_type": "code",
   "execution_count": 32,
   "metadata": {},
   "outputs": [
    {
     "data": {
      "text/plain": [
       "dw_mobilerecording_id\n",
       "33908.0   -41.58871\n",
       "33908.0   -37.43413\n",
       "33908.0   -29.45850\n",
       "33908.0   -20.92034\n",
       "33908.0   -17.28395\n",
       "             ...   \n",
       "33908.0   -21.77475\n",
       "33908.0   -22.11411\n",
       "33908.0   -22.50493\n",
       "33908.0   -22.90103\n",
       "33908.0   -22.91000\n",
       "Name: pcm_LOGenergy_sma, Length: 100, dtype: float64"
      ]
     },
     "execution_count": 32,
     "metadata": {},
     "output_type": "execute_result"
    }
   ],
   "source": [
    "r1['pcm_LOGenergy_sma']"
   ]
  },
  {
   "cell_type": "code",
   "execution_count": null,
   "metadata": {},
   "outputs": [],
   "source": [
    "fig,(ax1, ax2, ax3) = plt.subplots(1,3)\n",
    "\n",
    "ax1.plot(X1,Y1)\n",
    "ax2.plot(X2,Y2)\n",
    "ax3.plot(X3,Y3)\n",
    "fig.show()\n",
    "#plt.plot(x1.index, x1['f0_sma'], type = )"
   ]
  },
  {
   "cell_type": "code",
   "execution_count": null,
   "metadata": {},
   "outputs": [],
   "source": [
    "X = to_time_series_dataset([x1, x2, x3])\n",
    "y = [0, 1, 1]"
   ]
  },
  {
   "cell_type": "code",
   "execution_count": null,
   "metadata": {},
   "outputs": [],
   "source": []
  },
  {
   "cell_type": "code",
   "execution_count": null,
   "metadata": {},
   "outputs": [],
   "source": [
    "from tslearn.preprocessing import TimeSeriesScalerMinMax\n",
    "X_scaled = TimeSeriesScalerMinMax().fit_transform(X)\n",
    "print(X_scaled)"
   ]
  },
  {
   "cell_type": "code",
   "execution_count": null,
   "metadata": {},
   "outputs": [],
   "source": [
    "from tslearn.clustering import TimeSeriesKMeans\n",
    "\n",
    "model = TimeSeriesKMeans(n_clusters=3, metric=\"dtw\",\n",
    "                         max_iter=10, random_state=123)\n",
    "model.fit(X_scaled)"
   ]
  },
  {
   "cell_type": "code",
   "execution_count": null,
   "metadata": {},
   "outputs": [],
   "source": [
    "clusters = model.fit_transform(X_scaled)"
   ]
  },
  {
   "cell_type": "code",
   "execution_count": null,
   "metadata": {},
   "outputs": [],
   "source": [
    "X_scaled.shape"
   ]
  },
  {
   "cell_type": "code",
   "execution_count": null,
   "metadata": {},
   "outputs": [],
   "source": [
    "import math\n",
    "cluster_count = math.ceil(math.sqrt(len(X)))  #2 wychodzi"
   ]
  },
  {
   "cell_type": "code",
   "execution_count": null,
   "metadata": {},
   "outputs": [],
   "source": [
    "km_dba = TimeSeriesKMeans(n_clusters=3, metric=\"dtw\", max_iter=5,\n",
    "                          max_iter_barycenter=5,\n",
    "                          random_state=0).fit(X_scaled)\n",
    "km_dba.cluster_centers_.shape"
   ]
  },
  {
   "cell_type": "code",
   "execution_count": null,
   "metadata": {},
   "outputs": [],
   "source": [
    "km_dba.cluster_centers_\n"
   ]
  },
  {
   "cell_type": "code",
   "execution_count": null,
   "metadata": {},
   "outputs": [],
   "source": []
  },
  {
   "cell_type": "code",
   "execution_count": null,
   "metadata": {},
   "outputs": [],
   "source": []
  },
  {
   "cell_type": "code",
   "execution_count": null,
   "metadata": {},
   "outputs": [],
   "source": []
  }
 ],
 "metadata": {
  "kernelspec": {
   "display_name": "Python 3.9.13 ('ml')",
   "language": "python",
   "name": "python3"
  },
  "language_info": {
   "codemirror_mode": {
    "name": "ipython",
    "version": 3
   },
   "file_extension": ".py",
   "mimetype": "text/x-python",
   "name": "python",
   "nbconvert_exporter": "python",
   "pygments_lexer": "ipython3",
   "version": "3.9.13"
  },
  "orig_nbformat": 4,
  "vscode": {
   "interpreter": {
    "hash": "8ea266b9a32e539376479ecefb4b43de94cddfc186952a2290bc119c664ac37e"
   }
  }
 },
 "nbformat": 4,
 "nbformat_minor": 2
}
